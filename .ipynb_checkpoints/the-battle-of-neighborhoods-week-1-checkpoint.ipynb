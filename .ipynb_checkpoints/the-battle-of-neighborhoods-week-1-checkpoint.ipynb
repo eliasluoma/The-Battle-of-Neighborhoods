{
 "cells": [
  {
   "cell_type": "markdown",
   "metadata": {},
   "source": [
    "# Capstone Project - The Battle of the Neighborhoods (Week 1)\n",
    "### Elias Luoma\n",
    "#### Applied Data Science Capstone by IBM/Coursera\n"
   ]
  },
  {
   "cell_type": "markdown",
   "metadata": {},
   "source": [
    "## Table of contents\n",
    "* [Introduction: Business Problem](#introduction)"
   ]
  },
  {
   "cell_type": "markdown",
   "metadata": {},
   "source": [
    "## Introduction: Business Problem of location knowledge for real estate agents and for their customers <a name=\"introduction\"></a>"
   ]
  },
  {
   "cell_type": "markdown",
   "metadata": {},
   "source": [
    "Real estate agents compete from same customer and customers want to find best home and also best neighborhood for their family. Deep knowledge of area and neighborhood brings advantage in competition. From real estate point of view there is battle of neighborhoods. \n",
    "\n",
    "Nobody can remenber or know all venues in Espoo Finland area and so cannot promote all venues and categories which can found through Foursquare API. We would like to provide targeted information near property to sold for real estate agents. We would also cluster and categorise living areas to quicly tell in which category of property belongs and what are unique charasteristics of that area for example good parks and cafeterias. This makes difference when agent has sales meeting with owner. This information can be even crucial when families deciding where they are going to move and buy new home. \n",
    "\n"
   ]
  },
  {
   "cell_type": "code",
   "execution_count": null,
   "metadata": {},
   "outputs": [],
   "source": []
  }
 ],
 "metadata": {
  "kernelspec": {
   "display_name": "Python 3",
   "language": "python",
   "name": "python3"
  },
  "language_info": {
   "codemirror_mode": {
    "name": "ipython",
    "version": 3
   },
   "file_extension": ".py",
   "mimetype": "text/x-python",
   "name": "python",
   "nbconvert_exporter": "python",
   "pygments_lexer": "ipython3",
   "version": "3.6.8"
  }
 },
 "nbformat": 4,
 "nbformat_minor": 2
}
